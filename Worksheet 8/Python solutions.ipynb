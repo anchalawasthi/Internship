{
 "cells": [
  {
   "cell_type": "markdown",
   "metadata": {},
   "source": [
    "### Q1 - Write a python program to find the factorial of a number."
   ]
  },
  {
   "cell_type": "code",
   "execution_count": 1,
   "metadata": {},
   "outputs": [
    {
     "name": "stdout",
     "output_type": "stream",
     "text": [
      "enter the number to find the factorial 5\n",
      "The factorial is  120\n"
     ]
    }
   ],
   "source": [
    "n=int(input(\"enter the number to find the factorial \"))\n",
    "def fact(n):\n",
    "    \n",
    "    if n==1 :\n",
    "        return 1\n",
    "    else :\n",
    "        return n*fact(n-1)\n",
    "    \n",
    "if n<0 :\n",
    "    print(\" number is negative . factorial not possible\")\n",
    "elif n==0:\n",
    "    print(\"The factorial is \",1)\n",
    "else:\n",
    "     print(\"The factorial is \",fact(n))"
   ]
  },
  {
   "cell_type": "markdown",
   "metadata": {},
   "source": [
    "### Q2 - Write a python program to find whether a number is prime or composite."
   ]
  },
  {
   "cell_type": "code",
   "execution_count": 2,
   "metadata": {},
   "outputs": [
    {
     "name": "stdout",
     "output_type": "stream",
     "text": [
      "enter the number 5\n",
      "Number is prime\n"
     ]
    }
   ],
   "source": [
    "n=int(input('enter the number '))\n",
    "if n==0 or n==1:\n",
    "    print(\"neither prime nor composite\")\n",
    "else:\n",
    "    k=[]\n",
    "    for i in range(1,n):\n",
    "        if n%i==0:\n",
    "            k.append(i)\n",
    "    if len(k)<=2:\n",
    "        print(\"Number is prime\")\n",
    "        \n",
    "    else :\n",
    "        print(\"Number is composite\")  "
   ]
  },
  {
   "cell_type": "markdown",
   "metadata": {},
   "source": [
    "### Q3 - Write a python program to check whether a given string is palindrome or not."
   ]
  },
  {
   "cell_type": "code",
   "execution_count": 3,
   "metadata": {},
   "outputs": [
    {
     "name": "stdout",
     "output_type": "stream",
     "text": [
      "Enter the string new\n",
      "the string is not palindrome\n"
     ]
    }
   ],
   "source": [
    "string=input(\"Enter the string \")\n",
    "rev_string=\"\"\n",
    "for i in range(1,len(string)+1):\n",
    "    rev_string=rev_string+string.lower()[-i]\n",
    "if rev_string==string:\n",
    "    print(\"the string is palindrome\")\n",
    "else :\n",
    "    print(\"the string is not palindrome\")"
   ]
  },
  {
   "cell_type": "markdown",
   "metadata": {},
   "source": [
    "### Q4 - Write a Python program to get the third side of right-angled triangle from two given sides."
   ]
  },
  {
   "cell_type": "code",
   "execution_count": 4,
   "metadata": {},
   "outputs": [
    {
     "name": "stdout",
     "output_type": "stream",
     "text": [
      "enter the base of the right angled triangle 2\n",
      "enter the perpendicular of the right angled triangle 4\n",
      "the length of hypotenuse is  4.47213595499958\n"
     ]
    }
   ],
   "source": [
    "import math\n",
    "a=int(input(\"enter the base of the right angled triangle \"))\n",
    "b=int(input(\"enter the perpendicular of the right angled triangle \"))\n",
    "print(\"the length of hypotenuse is \",math.sqrt(a**2+b**2))"
   ]
  },
  {
   "cell_type": "markdown",
   "metadata": {},
   "source": [
    "### Q5 - Write a python program to print the frequency of each of the characters present in a given string."
   ]
  },
  {
   "cell_type": "code",
   "execution_count": 5,
   "metadata": {},
   "outputs": [
    {
     "name": "stdout",
     "output_type": "stream",
     "text": [
      "Enter the string hello\n",
      " The frequencies of characters in the string are {'h': 1, 'e': 1, 'l': 2, 'o': 1}\n"
     ]
    }
   ],
   "source": [
    "string=input(\"Enter the string \")\n",
    "freq=dict()\n",
    "for i in string :\n",
    "    if i in freq.keys():\n",
    "        freq[i]=freq[i]+1\n",
    "    else :\n",
    "        freq[i]=1\n",
    "print(\" The frequencies of characters in the string are\", freq)"
   ]
  }
 ],
 "metadata": {
  "kernelspec": {
   "display_name": "Python 3",
   "language": "python",
   "name": "python3"
  },
  "language_info": {
   "codemirror_mode": {
    "name": "ipython",
    "version": 3
   },
   "file_extension": ".py",
   "mimetype": "text/x-python",
   "name": "python",
   "nbconvert_exporter": "python",
   "pygments_lexer": "ipython3",
   "version": "3.8.5"
  }
 },
 "nbformat": 4,
 "nbformat_minor": 4
}
